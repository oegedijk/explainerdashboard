{
 "cells": [
  {
   "cell_type": "markdown",
   "metadata": {
    "toc": true
   },
   "source": [
    "This notebook is derived from `dashboard_examples.ipynb`, to show how you may run a simpler classifier dashboard instead of the default one."
   ]
  },
  {
   "cell_type": "markdown",
   "metadata": {
    "ExecuteTime": {
     "end_time": "2020-10-01T09:06:26.294359Z",
     "start_time": "2020-10-01T09:06:26.289751Z"
    }
   },
   "source": [
    "Uncomment to install explainerdashboard:"
   ]
  },
  {
   "cell_type": "code",
   "execution_count": 1,
   "metadata": {
    "ExecuteTime": {
     "end_time": "2021-01-20T16:13:22.406016Z",
     "start_time": "2021-01-20T16:13:22.401826Z"
    },
    "collapsed": true
   },
   "outputs": [],
   "source": [
    "#!pip install explainerdashboard"
   ]
  },
  {
   "cell_type": "markdown",
   "metadata": {},
   "source": [
    "# Set notebook properties:"
   ]
  },
  {
   "cell_type": "code",
   "execution_count": 1,
   "metadata": {
    "ExecuteTime": {
     "end_time": "2021-01-20T16:13:23.384613Z",
     "start_time": "2021-01-20T16:13:23.380671Z"
    },
    "collapsed": true
   },
   "outputs": [],
   "source": [
    "from IPython.core.interactiveshell import InteractiveShell\n",
    "InteractiveShell.ast_node_interactivity = \"all\""
   ]
  },
  {
   "cell_type": "markdown",
   "metadata": {},
   "source": [
    "# ClassifierExplainer examples"
   ]
  },
  {
   "cell_type": "markdown",
   "metadata": {},
   "source": [
    "## Load classifier data:\n",
    "    - predicting probability that a person on the titanic survived"
   ]
  },
  {
   "cell_type": "code",
   "execution_count": 2,
   "metadata": {
    "collapsed": true
   },
   "outputs": [],
   "source": [
    "# dev mode - changes in custom.py not in the package yet\n",
    "import sys\n",
    "sys.path.append('../')"
   ]
  },
  {
   "cell_type": "code",
   "execution_count": 3,
   "metadata": {
    "ExecuteTime": {
     "end_time": "2021-01-20T16:13:28.231562Z",
     "start_time": "2021-01-20T16:13:24.550567Z"
    },
    "collapsed": true
   },
   "outputs": [],
   "source": [
    "from explainerdashboard.datasets import titanic_survive, titanic_names"
   ]
  },
  {
   "cell_type": "code",
   "execution_count": 4,
   "metadata": {
    "ExecuteTime": {
     "end_time": "2021-01-20T16:13:28.246402Z",
     "start_time": "2021-01-20T16:13:28.234402Z"
    },
    "collapsed": true
   },
   "outputs": [],
   "source": [
    "X_train, y_train, X_test, y_test = titanic_survive()\n",
    "train_names, test_names = titanic_names()"
   ]
  },
  {
   "cell_type": "code",
   "execution_count": 5,
   "metadata": {
    "ExecuteTime": {
     "end_time": "2021-01-20T16:13:28.282574Z",
     "start_time": "2021-01-20T16:13:28.250686Z"
    },
    "collapsed": false
   },
   "outputs": [
    {
     "data": {
      "text/html": [
       "<div>\n",
       "<style scoped>\n",
       "    .dataframe tbody tr th:only-of-type {\n",
       "        vertical-align: middle;\n",
       "    }\n",
       "\n",
       "    .dataframe tbody tr th {\n",
       "        vertical-align: top;\n",
       "    }\n",
       "\n",
       "    .dataframe thead th {\n",
       "        text-align: right;\n",
       "    }\n",
       "</style>\n",
       "<table border=\"1\" class=\"dataframe\">\n",
       "  <thead>\n",
       "    <tr style=\"text-align: right;\">\n",
       "      <th></th>\n",
       "      <th>Fare</th>\n",
       "      <th>Age</th>\n",
       "      <th>PassengerClass</th>\n",
       "      <th>No_of_siblings_plus_spouses_on_board</th>\n",
       "      <th>No_of_parents_plus_children_on_board</th>\n",
       "      <th>Sex_female</th>\n",
       "      <th>Sex_male</th>\n",
       "      <th>Sex_nan</th>\n",
       "      <th>Deck_A</th>\n",
       "      <th>Deck_B</th>\n",
       "      <th>...</th>\n",
       "      <th>Deck_D</th>\n",
       "      <th>Deck_E</th>\n",
       "      <th>Deck_F</th>\n",
       "      <th>Deck_G</th>\n",
       "      <th>Deck_T</th>\n",
       "      <th>Deck_Unkown</th>\n",
       "      <th>Embarked_Cherbourg</th>\n",
       "      <th>Embarked_Queenstown</th>\n",
       "      <th>Embarked_Southampton</th>\n",
       "      <th>Embarked_Unknown</th>\n",
       "    </tr>\n",
       "    <tr>\n",
       "      <th>Passenger</th>\n",
       "      <th></th>\n",
       "      <th></th>\n",
       "      <th></th>\n",
       "      <th></th>\n",
       "      <th></th>\n",
       "      <th></th>\n",
       "      <th></th>\n",
       "      <th></th>\n",
       "      <th></th>\n",
       "      <th></th>\n",
       "      <th></th>\n",
       "      <th></th>\n",
       "      <th></th>\n",
       "      <th></th>\n",
       "      <th></th>\n",
       "      <th></th>\n",
       "      <th></th>\n",
       "      <th></th>\n",
       "      <th></th>\n",
       "      <th></th>\n",
       "      <th></th>\n",
       "    </tr>\n",
       "  </thead>\n",
       "  <tbody>\n",
       "    <tr>\n",
       "      <th>Braund, Mr. Owen Harris</th>\n",
       "      <td>7.2500</td>\n",
       "      <td>22.0</td>\n",
       "      <td>3</td>\n",
       "      <td>1</td>\n",
       "      <td>0</td>\n",
       "      <td>0</td>\n",
       "      <td>1</td>\n",
       "      <td>0</td>\n",
       "      <td>0</td>\n",
       "      <td>0</td>\n",
       "      <td>...</td>\n",
       "      <td>0</td>\n",
       "      <td>0</td>\n",
       "      <td>0</td>\n",
       "      <td>0</td>\n",
       "      <td>0</td>\n",
       "      <td>1</td>\n",
       "      <td>0</td>\n",
       "      <td>0</td>\n",
       "      <td>1</td>\n",
       "      <td>0</td>\n",
       "    </tr>\n",
       "    <tr>\n",
       "      <th>Heikkinen, Miss. Laina</th>\n",
       "      <td>7.9250</td>\n",
       "      <td>26.0</td>\n",
       "      <td>3</td>\n",
       "      <td>0</td>\n",
       "      <td>0</td>\n",
       "      <td>1</td>\n",
       "      <td>0</td>\n",
       "      <td>0</td>\n",
       "      <td>0</td>\n",
       "      <td>0</td>\n",
       "      <td>...</td>\n",
       "      <td>0</td>\n",
       "      <td>0</td>\n",
       "      <td>0</td>\n",
       "      <td>0</td>\n",
       "      <td>0</td>\n",
       "      <td>1</td>\n",
       "      <td>0</td>\n",
       "      <td>0</td>\n",
       "      <td>1</td>\n",
       "      <td>0</td>\n",
       "    </tr>\n",
       "    <tr>\n",
       "      <th>Allen, Mr. William Henry</th>\n",
       "      <td>8.0500</td>\n",
       "      <td>35.0</td>\n",
       "      <td>3</td>\n",
       "      <td>0</td>\n",
       "      <td>0</td>\n",
       "      <td>0</td>\n",
       "      <td>1</td>\n",
       "      <td>0</td>\n",
       "      <td>0</td>\n",
       "      <td>0</td>\n",
       "      <td>...</td>\n",
       "      <td>0</td>\n",
       "      <td>0</td>\n",
       "      <td>0</td>\n",
       "      <td>0</td>\n",
       "      <td>0</td>\n",
       "      <td>1</td>\n",
       "      <td>0</td>\n",
       "      <td>0</td>\n",
       "      <td>1</td>\n",
       "      <td>0</td>\n",
       "    </tr>\n",
       "    <tr>\n",
       "      <th>Moran, Mr. James</th>\n",
       "      <td>8.4583</td>\n",
       "      <td>-999.0</td>\n",
       "      <td>3</td>\n",
       "      <td>0</td>\n",
       "      <td>0</td>\n",
       "      <td>0</td>\n",
       "      <td>1</td>\n",
       "      <td>0</td>\n",
       "      <td>0</td>\n",
       "      <td>0</td>\n",
       "      <td>...</td>\n",
       "      <td>0</td>\n",
       "      <td>0</td>\n",
       "      <td>0</td>\n",
       "      <td>0</td>\n",
       "      <td>0</td>\n",
       "      <td>1</td>\n",
       "      <td>0</td>\n",
       "      <td>1</td>\n",
       "      <td>0</td>\n",
       "      <td>0</td>\n",
       "    </tr>\n",
       "    <tr>\n",
       "      <th>McCarthy, Mr. Timothy J</th>\n",
       "      <td>51.8625</td>\n",
       "      <td>54.0</td>\n",
       "      <td>1</td>\n",
       "      <td>0</td>\n",
       "      <td>0</td>\n",
       "      <td>0</td>\n",
       "      <td>1</td>\n",
       "      <td>0</td>\n",
       "      <td>0</td>\n",
       "      <td>0</td>\n",
       "      <td>...</td>\n",
       "      <td>0</td>\n",
       "      <td>1</td>\n",
       "      <td>0</td>\n",
       "      <td>0</td>\n",
       "      <td>0</td>\n",
       "      <td>0</td>\n",
       "      <td>0</td>\n",
       "      <td>0</td>\n",
       "      <td>1</td>\n",
       "      <td>0</td>\n",
       "    </tr>\n",
       "  </tbody>\n",
       "</table>\n",
       "<p>5 rows × 21 columns</p>\n",
       "</div>"
      ],
      "text/plain": [
       "                             Fare    Age  PassengerClass  \\\n",
       "Passenger                                                  \n",
       "Braund, Mr. Owen Harris    7.2500   22.0               3   \n",
       "Heikkinen, Miss. Laina     7.9250   26.0               3   \n",
       "Allen, Mr. William Henry   8.0500   35.0               3   \n",
       "Moran, Mr. James           8.4583 -999.0               3   \n",
       "McCarthy, Mr. Timothy J   51.8625   54.0               1   \n",
       "\n",
       "                          No_of_siblings_plus_spouses_on_board  \\\n",
       "Passenger                                                        \n",
       "Braund, Mr. Owen Harris                                      1   \n",
       "Heikkinen, Miss. Laina                                       0   \n",
       "Allen, Mr. William Henry                                     0   \n",
       "Moran, Mr. James                                             0   \n",
       "McCarthy, Mr. Timothy J                                      0   \n",
       "\n",
       "                          No_of_parents_plus_children_on_board  Sex_female  \\\n",
       "Passenger                                                                    \n",
       "Braund, Mr. Owen Harris                                      0           0   \n",
       "Heikkinen, Miss. Laina                                       0           1   \n",
       "Allen, Mr. William Henry                                     0           0   \n",
       "Moran, Mr. James                                             0           0   \n",
       "McCarthy, Mr. Timothy J                                      0           0   \n",
       "\n",
       "                          Sex_male  Sex_nan  Deck_A  Deck_B  ...  Deck_D  \\\n",
       "Passenger                                                    ...           \n",
       "Braund, Mr. Owen Harris          1        0       0       0  ...       0   \n",
       "Heikkinen, Miss. Laina           0        0       0       0  ...       0   \n",
       "Allen, Mr. William Henry         1        0       0       0  ...       0   \n",
       "Moran, Mr. James                 1        0       0       0  ...       0   \n",
       "McCarthy, Mr. Timothy J          1        0       0       0  ...       0   \n",
       "\n",
       "                          Deck_E  Deck_F  Deck_G  Deck_T  Deck_Unkown  \\\n",
       "Passenger                                                               \n",
       "Braund, Mr. Owen Harris        0       0       0       0            1   \n",
       "Heikkinen, Miss. Laina         0       0       0       0            1   \n",
       "Allen, Mr. William Henry       0       0       0       0            1   \n",
       "Moran, Mr. James               0       0       0       0            1   \n",
       "McCarthy, Mr. Timothy J        1       0       0       0            0   \n",
       "\n",
       "                          Embarked_Cherbourg  Embarked_Queenstown  \\\n",
       "Passenger                                                           \n",
       "Braund, Mr. Owen Harris                    0                    0   \n",
       "Heikkinen, Miss. Laina                     0                    0   \n",
       "Allen, Mr. William Henry                   0                    0   \n",
       "Moran, Mr. James                           0                    1   \n",
       "McCarthy, Mr. Timothy J                    0                    0   \n",
       "\n",
       "                          Embarked_Southampton  Embarked_Unknown  \n",
       "Passenger                                                         \n",
       "Braund, Mr. Owen Harris                      1                 0  \n",
       "Heikkinen, Miss. Laina                       1                 0  \n",
       "Allen, Mr. William Henry                     1                 0  \n",
       "Moran, Mr. James                             0                 0  \n",
       "McCarthy, Mr. Timothy J                      1                 0  \n",
       "\n",
       "[5 rows x 21 columns]"
      ]
     },
     "execution_count": 5,
     "metadata": {},
     "output_type": "execute_result"
    }
   ],
   "source": [
    "X_train.head()"
   ]
  },
  {
   "cell_type": "markdown",
   "metadata": {},
   "source": [
    "We'll use the passenger names later as idxs for the Explainer, such that they get displayed on the contributions tab of the dashboard, and you can also use them to pass as an index into various methods:"
   ]
  },
  {
   "cell_type": "code",
   "execution_count": 6,
   "metadata": {
    "ExecuteTime": {
     "end_time": "2021-01-20T16:13:28.287941Z",
     "start_time": "2021-01-20T16:13:28.284599Z"
    },
    "collapsed": false
   },
   "outputs": [
    {
     "data": {
      "text/plain": [
       "['Braund, Mr. Owen Harris',\n",
       " 'Heikkinen, Miss. Laina',\n",
       " 'Allen, Mr. William Henry',\n",
       " 'Moran, Mr. James',\n",
       " 'McCarthy, Mr. Timothy J']"
      ]
     },
     "execution_count": 6,
     "metadata": {},
     "output_type": "execute_result"
    }
   ],
   "source": [
    "train_names[:5]"
   ]
  },
  {
   "cell_type": "markdown",
   "metadata": {},
   "source": [
    "## Run with SimplifiedClassifierDashboard\n",
    "- create an explainer object out the model and the X and y that you wish to display.\n",
    "- the explainer object calculates shap values, permutation importances, pdp's, etc, and provides all kinds of plots that will be used by the ExplainerDashboard object\n",
    "- the new `SimplifiedClassifierDashboard` will display all of the following on a single tab:\n",
    "    - Confusion matrix \n",
    "    - One other model quality indicator; default is pr-auc curve, you may change it to other valid `classifier_components`. See details below.\n",
    "    - Shap importances\n",
    "    - Shap dependence\n",
    "    - Shap contributions graph"
   ]
  },
  {
   "cell_type": "code",
   "execution_count": 7,
   "metadata": {
    "ExecuteTime": {
     "end_time": "2021-01-20T16:13:28.292151Z",
     "start_time": "2021-01-20T16:13:28.289481Z"
    },
    "collapsed": true
   },
   "outputs": [],
   "source": [
    "from sklearn.ensemble import RandomForestClassifier\n",
    "from explainerdashboard import ClassifierExplainer, ExplainerDashboard\n",
    "from explainerdashboard.custom import SimplifiedClassifierDashboard"
   ]
  },
  {
   "cell_type": "code",
   "execution_count": 6,
   "metadata": {
    "ExecuteTime": {
     "end_time": "2021-01-20T16:14:21.318672Z",
     "start_time": "2021-01-20T16:14:21.218883Z"
    },
    "collapsed": false
   },
   "outputs": [
    {
     "data": {
      "text/plain": [
       "RandomForestClassifier(max_depth=5, n_estimators=50)"
      ]
     },
     "execution_count": 6,
     "metadata": {},
     "output_type": "execute_result"
    },
    {
     "name": "stdout",
     "output_type": "stream",
     "text": [
      "Detected RandomForestClassifier model: Changing class type to RandomForestClassifierExplainer...\n",
      "Note: model_output=='probability', so assuming that raw shap output of RandomForestClassifier is in probability space...\n",
      "Generating self.shap_explainer = shap.TreeExplainer(model)\n"
     ]
    }
   ],
   "source": [
    "model = RandomForestClassifier(n_estimators=50, max_depth=5)\n",
    "model.fit(X_train, y_train)\n",
    "\n",
    "explainer = ClassifierExplainer(model, X_test, y_test)"
   ]
  },
  {
   "cell_type": "markdown",
   "metadata": {},
   "source": [
    "Now create an SimplifiedClassifierDashboard instance out of the explainer instance. By default, the `classifier_custom_component` is set to be [PrAucComponent](https://explainerdashboard.readthedocs.io/en/latest/components.html#prauccomponent)."
   ]
  },
  {
   "cell_type": "code",
   "execution_count": 8,
   "metadata": {
    "collapsed": false
   },
   "outputs": [
    {
     "name": "stdout",
     "output_type": "stream",
     "text": [
      "Building ExplainerDashboard..\n",
      "Detected notebook environment, consider setting mode='external', mode='inline' or mode='jupyterlab' to keep the notebook interactive while the dashboard is running...\n",
      "Generating layout...\n",
      "Calculating shap values...\n",
      "Calculating dependencies...\n",
      "Calculating pred_percentiles...\n",
      "Calculating prediction probabilities...\n",
      "Calculating metrics...\n",
      "Calculating predictions...\n",
      "Calculating confusion matrices...\n",
      "Calculating pr auc curves...\n",
      "Reminder: you can store the explainer (including calculated dependencies) with explainer.dump('explainer.joblib') and reload with e.g. ClassifierExplainer.from_file('explainer.joblib')\n",
      "Registering callbacks...\n"
     ]
    }
   ],
   "source": [
    "db = ExplainerDashboard(explainer, SimplifiedClassifierDashboard)"
   ]
  },
  {
   "cell_type": "markdown",
   "metadata": {},
   "source": [
    "Running the simplified classifier dashboard on port 9000:"
   ]
  },
  {
   "cell_type": "code",
   "execution_count": 9,
   "metadata": {
    "collapsed": true
   },
   "outputs": [
    {
     "name": "stdout",
     "output_type": "stream",
     "text": [
      "Starting ExplainerDashboard on http://192.168.1.21:9000\n",
      "Dash is running on http://0.0.0.0:9000/\n",
      "\n",
      " * Serving Flask app \"explainerdashboard.dashboards\" (lazy loading)\n",
      " * Environment: production\n",
      "   WARNING: This is a development server. Do not use it in a production deployment.\n",
      "   Use a production WSGI server instead.\n",
      " * Debug mode: off\n"
     ]
    },
    {
     "name": "stderr",
     "output_type": "stream",
     "text": [
      " * Running on http://0.0.0.0:9000/ (Press CTRL+C to quit)\n",
      "192.168.1.21 - - [20/Apr/2021 20:41:33] \"\u001b[37mGET / HTTP/1.1\u001b[0m\" 200 -\n",
      "192.168.1.21 - - [20/Apr/2021 20:41:33] \"\u001b[37mGET /assets/bootstrap.min.css?m=1618883497.654649 HTTP/1.1\u001b[0m\" 200 -\n",
      "192.168.1.21 - - [20/Apr/2021 20:41:33] \"\u001b[37mGET /_dash-component-suites/dash_renderer/polyfill@7.v1_9_1m1618962237.8.7.min.js HTTP/1.1\u001b[0m\" 200 -\n",
      "192.168.1.21 - - [20/Apr/2021 20:41:33] \"\u001b[37mGET /_dash-component-suites/dash_renderer/react@16.v1_9_1m1618962237.14.0.min.js HTTP/1.1\u001b[0m\" 200 -\n",
      "192.168.1.21 - - [20/Apr/2021 20:41:33] \"\u001b[37mGET /_dash-component-suites/dash_renderer/react-dom@16.v1_9_1m1618962237.14.0.min.js HTTP/1.1\u001b[0m\" 200 -\n",
      "192.168.1.21 - - [20/Apr/2021 20:41:33] \"\u001b[37mGET /_dash-component-suites/dash_renderer/prop-types@15.v1_9_1m1618962237.7.2.min.js HTTP/1.1\u001b[0m\" 200 -\n",
      "192.168.1.21 - - [20/Apr/2021 20:41:33] \"\u001b[37mGET /_dash-component-suites/dash_table/bundle.v4_11_3m1618962241.js HTTP/1.1\u001b[0m\" 200 -\n",
      "192.168.1.21 - - [20/Apr/2021 20:41:33] \"\u001b[37mGET /_dash-component-suites/dash_core_components/dash_core_components-shared.v1_16_0m1618962238.js HTTP/1.1\u001b[0m\" 200 -\n",
      "192.168.1.21 - - [20/Apr/2021 20:41:33] \"\u001b[37mGET /_dash-component-suites/dash_html_components/dash_html_components.v1_1_3m1618962240.min.js HTTP/1.1\u001b[0m\" 200 -\n",
      "192.168.1.21 - - [20/Apr/2021 20:41:33] \"\u001b[37mGET /_dash-component-suites/dash_bootstrap_components/_components/dash_bootstrap_components.v0_12_0m1618962292.min.js HTTP/1.1\u001b[0m\" 200 -\n",
      "192.168.1.21 - - [20/Apr/2021 20:41:33] \"\u001b[37mGET /_dash-component-suites/dash_core_components/dash_core_components.v1_16_0m1618962238.min.js HTTP/1.1\u001b[0m\" 200 -\n",
      "192.168.1.21 - - [20/Apr/2021 20:41:33] \"\u001b[37mGET /_dash-component-suites/dash_renderer/dash_renderer.v1_9_1m1618962237.min.js HTTP/1.1\u001b[0m\" 200 -\n",
      "192.168.1.21 - - [20/Apr/2021 20:41:33] \"\u001b[37mGET /_dash-dependencies HTTP/1.1\u001b[0m\" 200 -\n",
      "192.168.1.21 - - [20/Apr/2021 20:41:33] \"\u001b[37mGET /_dash-layout HTTP/1.1\u001b[0m\" 200 -\n",
      "192.168.1.21 - - [20/Apr/2021 20:41:34] \"\u001b[37mGET /assets/favicon.ico?m=1618883497.659719 HTTP/1.1\u001b[0m\" 200 -\n",
      "192.168.1.21 - - [20/Apr/2021 20:41:34] \"\u001b[37mGET /_dash-component-suites/dash_core_components/async-dropdown.v1_16_0m1617903285.js HTTP/1.1\u001b[0m\" 200 -\n",
      "192.168.1.21 - - [20/Apr/2021 20:41:34] \"\u001b[37mGET /_dash-component-suites/dash_core_components/async-slider.v1_16_0m1617903285.js HTTP/1.1\u001b[0m\" 200 -\n",
      "192.168.1.21 - - [20/Apr/2021 20:41:34] \"\u001b[37mGET /_dash-component-suites/dash_core_components/async-graph.v1_16_0m1617903285.js HTTP/1.1\u001b[0m\" 200 -\n",
      "192.168.1.21 - - [20/Apr/2021 20:41:34] \"\u001b[37mGET /_dash-component-suites/dash_core_components/async-plotlyjs.v1_16_0m1617903285.js HTTP/1.1\u001b[0m\" 200 -\n",
      "192.168.1.21 - - [20/Apr/2021 20:41:34] \"\u001b[37mPOST /_dash-update-component HTTP/1.1\u001b[0m\" 200 -\n",
      "192.168.1.21 - - [20/Apr/2021 20:41:34] \"\u001b[37mPOST /_dash-update-component HTTP/1.1\u001b[0m\" 200 -\n",
      "192.168.1.21 - - [20/Apr/2021 20:41:34] \"\u001b[37mPOST /_dash-update-component HTTP/1.1\u001b[0m\" 200 -\n",
      "192.168.1.21 - - [20/Apr/2021 20:41:34] \"\u001b[37mPOST /_dash-update-component HTTP/1.1\u001b[0m\" 200 -\n",
      "192.168.1.21 - - [20/Apr/2021 20:41:34] \"\u001b[37mPOST /_dash-update-component HTTP/1.1\u001b[0m\" 200 -\n",
      "192.168.1.21 - - [20/Apr/2021 20:41:34] \"\u001b[37mPOST /_dash-update-component HTTP/1.1\u001b[0m\" 200 -\n",
      "192.168.1.21 - - [20/Apr/2021 20:41:34] \"\u001b[37mPOST /_dash-update-component HTTP/1.1\u001b[0m\" 200 -\n",
      "192.168.1.21 - - [20/Apr/2021 20:41:35] \"\u001b[37mPOST /_dash-update-component HTTP/1.1\u001b[0m\" 204 -\n",
      "192.168.1.21 - - [20/Apr/2021 20:41:35] \"\u001b[37mPOST /_dash-update-component HTTP/1.1\u001b[0m\" 200 -\n",
      "192.168.1.21 - - [20/Apr/2021 20:41:35] \"\u001b[37mPOST /_dash-update-component HTTP/1.1\u001b[0m\" 200 -\n",
      "192.168.1.21 - - [20/Apr/2021 20:41:35] \"\u001b[37mPOST /_dash-update-component HTTP/1.1\u001b[0m\" 200 -\n",
      "192.168.1.21 - - [20/Apr/2021 20:41:35] \"\u001b[37mPOST /_dash-update-component HTTP/1.1\u001b[0m\" 204 -\n",
      "192.168.1.21 - - [20/Apr/2021 20:41:35] \"\u001b[37mPOST /_dash-update-component HTTP/1.1\u001b[0m\" 204 -\n",
      "192.168.1.21 - - [20/Apr/2021 20:41:35] \"\u001b[37mPOST /_dash-update-component HTTP/1.1\u001b[0m\" 200 -\n",
      "192.168.1.21 - - [20/Apr/2021 20:41:35] \"\u001b[37mPOST /_dash-update-component HTTP/1.1\u001b[0m\" 200 -\n",
      "192.168.1.21 - - [20/Apr/2021 20:41:35] \"\u001b[37mPOST /_dash-update-component HTTP/1.1\u001b[0m\" 200 -\n",
      "192.168.1.21 - - [20/Apr/2021 20:41:35] \"\u001b[37mPOST /_dash-update-component HTTP/1.1\u001b[0m\" 200 -\n",
      "192.168.1.21 - - [20/Apr/2021 20:41:36] \"\u001b[37mPOST /_dash-update-component HTTP/1.1\u001b[0m\" 200 -\n",
      "192.168.1.21 - - [20/Apr/2021 20:41:36] \"\u001b[37mPOST /_dash-update-component HTTP/1.1\u001b[0m\" 200 -\n",
      "192.168.1.21 - - [20/Apr/2021 20:41:36] \"\u001b[37mPOST /_dash-update-component HTTP/1.1\u001b[0m\" 200 -\n",
      "192.168.1.21 - - [20/Apr/2021 20:41:36] \"\u001b[37mPOST /_dash-update-component HTTP/1.1\u001b[0m\" 200 -\n",
      "192.168.1.21 - - [20/Apr/2021 20:41:36] \"\u001b[37mPOST /_dash-update-component HTTP/1.1\u001b[0m\" 200 -\n",
      "192.168.1.21 - - [20/Apr/2021 20:41:36] \"\u001b[37mPOST /_dash-update-component HTTP/1.1\u001b[0m\" 200 -\n",
      "192.168.1.21 - - [20/Apr/2021 20:41:36] \"\u001b[37mPOST /_dash-update-component HTTP/1.1\u001b[0m\" 200 -\n",
      "192.168.1.21 - - [20/Apr/2021 20:42:02] \"\u001b[37mGET /_dash-component-suites/dash_table/bundle.js.map HTTP/1.1\u001b[0m\" 200 -\n",
      "192.168.1.21 - - [20/Apr/2021 20:42:02] \"\u001b[37mGET /_dash-component-suites/dash_html_components/dash_html_components.min.js.map HTTP/1.1\u001b[0m\" 200 -\n",
      "192.168.1.21 - - [20/Apr/2021 20:42:02] \"\u001b[37mGET /_dash-component-suites/dash_core_components/dash_core_components-shared.js.map HTTP/1.1\u001b[0m\" 200 -\n",
      "192.168.1.21 - - [20/Apr/2021 20:42:02] \"\u001b[37mGET /_dash-component-suites/dash_core_components/async-slider.js.map HTTP/1.1\u001b[0m\" 200 -\n",
      "192.168.1.21 - - [20/Apr/2021 20:42:02] \"\u001b[37mGET /_dash-component-suites/dash_core_components/async-dropdown.js.map HTTP/1.1\u001b[0m\" 200 -\n",
      "192.168.1.21 - - [20/Apr/2021 20:42:02] \"\u001b[37mGET /_dash-component-suites/dash_core_components/dash_core_components.min.js.map HTTP/1.1\u001b[0m\" 200 -\n",
      "192.168.1.21 - - [20/Apr/2021 20:42:02] \"\u001b[37mGET /_dash-component-suites/dash_core_components/async-graph.js.map HTTP/1.1\u001b[0m\" 200 -\n",
      "192.168.1.21 - - [20/Apr/2021 20:42:03] \"\u001b[33mGET /assets/bootstrap.min.css.map HTTP/1.1\u001b[0m\" 404 -\n"
     ]
    }
   ],
   "source": [
    "db.run(port=9000)"
   ]
  },
  {
   "cell_type": "code",
   "execution_count": null,
   "metadata": {
    "collapsed": true
   },
   "outputs": [],
   "source": [
    "db.terminate(port=9000)"
   ]
  },
  {
   "cell_type": "markdown",
   "metadata": {},
   "source": [
    "If you'd like to see plots other than the PR AUC graph, you may pass the following valid arguments to `classifier_custom_component`: ['pr_auc', 'precision_graph', 'lift_curve', 'class_graph', 'roc_auc']. See an example below for generating [PrecisionComponent](https://explainerdashboard.readthedocs.io/en/latest/components.html#precisioncomponent)."
   ]
  },
  {
   "cell_type": "code",
   "execution_count": null,
   "metadata": {
    "ExecuteTime": {
     "end_time": "2021-01-20T16:14:23.618940Z",
     "start_time": "2021-01-20T16:14:22.502651Z"
    },
    "collapsed": false
   },
   "outputs": [],
   "source": [
    "from explainerdashboard.custom import SimplifiedClassifierDashboard\n",
    "\n",
    "db = ExplainerDashboard(explainer, SimplifiedClassifierDashboard(explainer, classifier_custom_component='precision_graph'))"
   ]
  },
  {
   "cell_type": "markdown",
   "metadata": {},
   "source": [
    "And run the dashboard on the default port (=8050):"
   ]
  },
  {
   "cell_type": "code",
   "execution_count": 8,
   "metadata": {
    "collapsed": false,
    "scrolled": true
   },
   "outputs": [
    {
     "name": "stdout",
     "output_type": "stream",
     "text": [
      "Starting ExplainerDashboard on http://192.168.1.21:8050\n",
      "Dash is running on http://0.0.0.0:8050/\n",
      "\n",
      " * Serving Flask app \"explainerdashboard.dashboards\" (lazy loading)\n",
      " * Environment: production\n",
      "   WARNING: This is a development server. Do not use it in a production deployment.\n",
      "   Use a production WSGI server instead.\n",
      " * Debug mode: off\n",
      " * Running on http://0.0.0.0:8050/ (Press CTRL+C to quit)\n",
      "192.168.1.21 - - [20/Apr/2021 19:11:50] \"\u001b[37mGET / HTTP/1.1\u001b[0m\" 200 -\n",
      "192.168.1.21 - - [20/Apr/2021 19:11:51] \"\u001b[37mGET /_dash-dependencies HTTP/1.1\u001b[0m\" 200 -\n",
      "192.168.1.21 - - [20/Apr/2021 19:11:51] \"\u001b[37mGET /_dash-layout HTTP/1.1\u001b[0m\" 200 -\n",
      "192.168.1.21 - - [20/Apr/2021 19:11:52] \"\u001b[37mPOST /_dash-update-component HTTP/1.1\u001b[0m\" 200 -\n",
      "192.168.1.21 - - [20/Apr/2021 19:11:52] \"\u001b[37mPOST /_dash-update-component HTTP/1.1\u001b[0m\" 200 -\n",
      "192.168.1.21 - - [20/Apr/2021 19:11:52] \"\u001b[37mPOST /_dash-update-component HTTP/1.1\u001b[0m\" 200 -\n",
      "192.168.1.21 - - [20/Apr/2021 19:11:52] \"\u001b[37mPOST /_dash-update-component HTTP/1.1\u001b[0m\" 200 -\n",
      "192.168.1.21 - - [20/Apr/2021 19:11:52] \"\u001b[37mPOST /_dash-update-component HTTP/1.1\u001b[0m\" 200 -\n",
      "192.168.1.21 - - [20/Apr/2021 19:11:52] \"\u001b[37mPOST /_dash-update-component HTTP/1.1\u001b[0m\" 200 -\n",
      "192.168.1.21 - - [20/Apr/2021 19:11:52] \"\u001b[37mPOST /_dash-update-component HTTP/1.1\u001b[0m\" 200 -\n",
      "192.168.1.21 - - [20/Apr/2021 19:11:53] \"\u001b[37mPOST /_dash-update-component HTTP/1.1\u001b[0m\" 204 -\n",
      "192.168.1.21 - - [20/Apr/2021 19:11:53] \"\u001b[37mPOST /_dash-update-component HTTP/1.1\u001b[0m\" 200 -\n",
      "192.168.1.21 - - [20/Apr/2021 19:11:53] \"\u001b[37mPOST /_dash-update-component HTTP/1.1\u001b[0m\" 200 -\n",
      "192.168.1.21 - - [20/Apr/2021 19:11:53] \"\u001b[37mPOST /_dash-update-component HTTP/1.1\u001b[0m\" 200 -\n",
      "192.168.1.21 - - [20/Apr/2021 19:11:53] \"\u001b[37mPOST /_dash-update-component HTTP/1.1\u001b[0m\" 204 -\n",
      "192.168.1.21 - - [20/Apr/2021 19:11:53] \"\u001b[37mPOST /_dash-update-component HTTP/1.1\u001b[0m\" 204 -\n",
      "192.168.1.21 - - [20/Apr/2021 19:11:53] \"\u001b[37mPOST /_dash-update-component HTTP/1.1\u001b[0m\" 200 -\n",
      "192.168.1.21 - - [20/Apr/2021 19:11:53] \"\u001b[37mPOST /_dash-update-component HTTP/1.1\u001b[0m\" 200 -\n",
      "192.168.1.21 - - [20/Apr/2021 19:11:53] \"\u001b[37mPOST /_dash-update-component HTTP/1.1\u001b[0m\" 200 -\n",
      "192.168.1.21 - - [20/Apr/2021 19:11:53] \"\u001b[37mPOST /_dash-update-component HTTP/1.1\u001b[0m\" 200 -\n",
      "192.168.1.21 - - [20/Apr/2021 19:11:53] \"\u001b[37mPOST /_dash-update-component HTTP/1.1\u001b[0m\" 200 -\n",
      "192.168.1.21 - - [20/Apr/2021 19:11:54] \"\u001b[37mPOST /_dash-update-component HTTP/1.1\u001b[0m\" 200 -\n",
      "192.168.1.21 - - [20/Apr/2021 19:11:54] \"\u001b[37mPOST /_dash-update-component HTTP/1.1\u001b[0m\" 200 -\n",
      "192.168.1.21 - - [20/Apr/2021 19:11:54] \"\u001b[37mPOST /_dash-update-component HTTP/1.1\u001b[0m\" 200 -\n",
      "192.168.1.21 - - [20/Apr/2021 19:11:54] \"\u001b[37mPOST /_dash-update-component HTTP/1.1\u001b[0m\" 200 -\n",
      "192.168.1.21 - - [20/Apr/2021 19:11:54] \"\u001b[37mPOST /_dash-update-component HTTP/1.1\u001b[0m\" 200 -\n",
      "192.168.1.21 - - [20/Apr/2021 19:11:54] \"\u001b[37mPOST /_dash-update-component HTTP/1.1\u001b[0m\" 200 -\n"
     ]
    }
   ],
   "source": [
    "db.run()"
   ]
  },
  {
   "cell_type": "markdown",
   "metadata": {},
   "source": [
    "Or on another port, e.g. port 8051:"
   ]
  },
  {
   "cell_type": "markdown",
   "metadata": {},
   "source": [
    "### Run on specific port"
   ]
  },
  {
   "cell_type": "code",
   "execution_count": null,
   "metadata": {
    "collapsed": true
   },
   "outputs": [],
   "source": [
    "db.run(8051)"
   ]
  },
  {
   "cell_type": "markdown",
   "metadata": {},
   "source": [
    "# mode='inline', 'jupyterlab', 'external'"
   ]
  },
  {
   "cell_type": "markdown",
   "metadata": {},
   "source": [
    "## mode='inline'\n",
    "\n",
    "Besides the default `dash.Dash(__name__)` dashboard, plotly also released a package called `jupyter-dash` that makes it more convenient to deploy dashboards either inline in a notebook, or run from a notebook cell, while the rest of the notebook stays interactive. \n",
    "\n",
    "By passing an appropriate mode to the `ExplainerDashboard` constructur you can make use of `JupyterDash`. The three modes are:\n",
    "\n",
    "- `\"inline\"`, displays the dashboard in the output area underneath the current cell\n",
    "- `\"jupyterlab\"` displays the dashboard in a seperate pane in jupyterlab\n",
    "- `\"external\"` opens up a server that you can acces from a seperate browser tab\n"
   ]
  },
  {
   "cell_type": "markdown",
   "metadata": {},
   "source": [
    "You may also run the `SimplifiedClassifierDashboard` using the \"inline\" mode, as usual."
   ]
  },
  {
   "cell_type": "code",
   "execution_count": 8,
   "metadata": {
    "collapsed": false
   },
   "outputs": [
    {
     "name": "stdout",
     "output_type": "stream",
     "text": [
      "Building ExplainerDashboard..\n",
      "Generating layout...\n",
      "Calculating shap values...\n",
      "Calculating dependencies...\n",
      "Calculating predictions...\n",
      "Calculating prediction probabilities...\n",
      "Calculating pred_percentiles...\n",
      "Calculating confusion matrices...\n",
      "Calculating pr auc curves...\n",
      "Calculating metrics...\n",
      "Reminder: you can store the explainer (including calculated dependencies) with explainer.dump('explainer.joblib') and reload with e.g. ClassifierExplainer.from_file('explainer.joblib')\n",
      "Registering callbacks...\n",
      "Starting ExplainerDashboard inline (terminate it with ExplainerDashboard.terminate(8050))\n"
     ]
    },
    {
     "data": {
      "text/html": [
       "\n",
       "        <iframe\n",
       "            width=\"1000\"\n",
       "            height=\"800\"\n",
       "            src=\"http://127.0.0.1:8050/\"\n",
       "            frameborder=\"0\"\n",
       "            allowfullscreen\n",
       "        ></iframe>\n",
       "        "
      ],
      "text/plain": [
       "<IPython.lib.display.IFrame at 0x15d6739bc18>"
      ]
     },
     "metadata": {},
     "output_type": "display_data"
    }
   ],
   "source": [
    "ExplainerDashboard(explainer, SimplifiedClassifierDashboard, mode='inline').run()"
   ]
  },
  {
   "cell_type": "code",
   "execution_count": 10,
   "metadata": {
    "collapsed": false
   },
   "outputs": [
    {
     "name": "stdout",
     "output_type": "stream",
     "text": [
      "Building ExplainerDashboard..\n",
      "Generating layout...\n",
      "Calculating dependencies...\n",
      "Calculating liftcurve_dfs...\n",
      "Reminder: you can store the explainer (including calculated dependencies) with explainer.dump('explainer.joblib') and reload with e.g. ClassifierExplainer.from_file('explainer.joblib')\n",
      "Registering callbacks...\n",
      "Starting ExplainerDashboard inline (terminate it with ExplainerDashboard.terminate(8050))\n"
     ]
    },
    {
     "data": {
      "text/html": [
       "\n",
       "        <iframe\n",
       "            width=\"1000\"\n",
       "            height=\"800\"\n",
       "            src=\"http://127.0.0.1:8050/\"\n",
       "            frameborder=\"0\"\n",
       "            allowfullscreen\n",
       "        ></iframe>\n",
       "        "
      ],
      "text/plain": [
       "<IPython.lib.display.IFrame at 0x15d67933940>"
      ]
     },
     "metadata": {},
     "output_type": "display_data"
    }
   ],
   "source": [
    "ExplainerDashboard(explainer, SimplifiedClassifierDashboard(explainer, classifier_custom_component='lift_curve'), mode='inline').run()"
   ]
  },
  {
   "cell_type": "code",
   "execution_count": 11,
   "metadata": {
    "collapsed": false
   },
   "outputs": [
    {
     "name": "stdout",
     "output_type": "stream",
     "text": [
      "Trying to shut down dashboard on port 8050...\n"
     ]
    }
   ],
   "source": [
    "ExplainerDashboard.terminate(8050)"
   ]
  },
  {
   "cell_type": "code",
   "execution_count": null,
   "metadata": {
    "collapsed": true
   },
   "outputs": [],
   "source": [
    "ExplainerDashboard(explainer, SimplifiedClassifierDashboard, mode='inline', width=1200, height=1000).run()"
   ]
  },
  {
   "cell_type": "code",
   "execution_count": null,
   "metadata": {
    "collapsed": true
   },
   "outputs": [],
   "source": [
    "ExplainerDashboard(explainer, SimplifiedClassifierDashboard, mode='jupyterlab').run()"
   ]
  },
  {
   "cell_type": "code",
   "execution_count": null,
   "metadata": {
    "collapsed": true
   },
   "outputs": [],
   "source": [
    "ExplainerDashboard(explainer, SimplifiedClassifierDashboard, mode='external').run()"
   ]
  }
 ],
 "metadata": {
  "kernelspec": {
   "display_name": "Python [conda env:flask-ui]",
   "language": "python",
   "name": "conda-env-flask-ui-py"
  },
  "language_info": {
   "codemirror_mode": {
    "name": "ipython",
    "version": 3
   },
   "file_extension": ".py",
   "mimetype": "text/x-python",
   "name": "python",
   "nbconvert_exporter": "python",
   "pygments_lexer": "ipython3",
   "version": "3.7.1"
  },
  "metadata": {
   "interpreter": {
    "hash": "40fae5cf2b0560dbe75793bcfc027cd1f0058fbc531fbe58e6470975acaad7bd"
   }
  },
  "toc": {
   "base_numbering": 1,
   "nav_menu": {},
   "number_sections": true,
   "sideBar": true,
   "skip_h1_title": false,
   "title_cell": "Table of Contents",
   "title_sidebar": "Contents",
   "toc_cell": true,
   "toc_position": {
    "height": "calc(100% - 180px)",
    "left": "10px",
    "top": "150px",
    "width": "285.33px"
   },
   "toc_section_display": true,
   "toc_window_display": true
  }
 },
 "nbformat": 4,
 "nbformat_minor": 4
}
